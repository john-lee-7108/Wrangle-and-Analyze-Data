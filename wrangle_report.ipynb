{
 "cells": [
  {
   "cell_type": "markdown",
   "metadata": {},
   "source": [
    "## Reporting: wrangle_report\n",
    "* Create a **300-600 word written report** called \"wrangle_report.pdf\" or \"wrangle_report.html\" that briefly describes your wrangling efforts. This is to be framed as an internal document."
   ]
  },
  {
   "cell_type": "markdown",
   "metadata": {},
   "source": [
    "### Project Steps Overview:"
   ]
  },
  {
   "cell_type": "markdown",
   "metadata": {},
   "source": [
    "#### 1. Gathering Data."
   ]
  },
  {
   "cell_type": "markdown",
   "metadata": {},
   "source": [
    "For data gathering, the first file was provided to us via direct download. I used the pd.read_csv function in pandas to read the file and load it in the workbook. The next file I used the Requests library to download it programmaticaly from Udacity servers. The last file, instead of using the tweepy library I downloaded it manually. After that I read the \n",
    "json.txt file line by line into the dataframe using pandas. "
   ]
  },
  {
   "cell_type": "markdown",
   "metadata": {},
   "source": [
    "#### 2. Assesing Data."
   ]
  },
  {
   "cell_type": "markdown",
   "metadata": {},
   "source": [
    "After gathering all the data needed, I was tasked to assess the data and check for quality and tidiness issues. First I did a \n",
    "visual inspection of the data. I accomplished it by calling for the data itself and going thru line by line checking for any errors. After browsing for errors I then used pandas functions to easily check for errors that can't be seen by just looking at it. I made use of .head, .tail and .sample functions to check for inconsistencies. The .info and .describe to inspect the datatypes and values. I also checked for duplicates and nulls. I checked for inconsistencies with. After checking for the required quality issues I then check for tidiness issues. I used the guideline of \"each variable forms a column, each observation forms a row, each observational unit forms a table\". After all that is done I moved to the next step."
   ]
  },
  {
   "cell_type": "markdown",
   "metadata": {},
   "source": [
    "#### 3. Cleaning Data."
   ]
  },
  {
   "cell_type": "markdown",
   "metadata": {},
   "source": [
    "After spotting all the issues, time to clean it up! First I made a copy of the data so I can always go back to the original if I did something wrong. Also, not everyone uses or will use the columns that I think I need. It is always better to make a copy instead of editing the original. I also followed the template of \"define, code and test\" in cleaning my data. I changed the datatypes of certain columns into their proper type. It may not be much but there are certain pandas functions that you can use to make your life easier so it is better to change their types now.I dropped the duplicates and null values as they won't help in the analysis phase. I changed the formatting of some columns so they can be better used for analysis. Some columns are merged into one to conform to the tidiness rules of data. Lastly, I merged them all into one table as I feel that they should be in one table instead of three."
   ]
  },
  {
   "cell_type": "markdown",
   "metadata": {},
   "source": [
    "#### 4. Storing Data."
   ]
  },
  {
   "cell_type": "markdown",
   "metadata": {},
   "source": [
    "After all the cleaning I stored the data in one master file. "
   ]
  },
  {
   "cell_type": "markdown",
   "metadata": {},
   "source": [
    "#### 5. Analysis."
   ]
  },
  {
   "cell_type": "markdown",
   "metadata": {},
   "source": [
    "After the data is clean, I was able to make a few insights and observations."
   ]
  },
  {
   "cell_type": "markdown",
   "metadata": {},
   "source": [
    "#### Resources:"
   ]
  },
  {
   "cell_type": "markdown",
   "metadata": {},
   "source": [
    "- pandas documentation\n",
    "- stackoverflow\n",
    "- geeksforgeeks\n",
    "- w3schools"
   ]
  }
 ],
 "metadata": {
  "kernelspec": {
   "display_name": "Python 3",
   "language": "python",
   "name": "python3"
  },
  "language_info": {
   "codemirror_mode": {
    "name": "ipython",
    "version": 3
   },
   "file_extension": ".py",
   "mimetype": "text/x-python",
   "name": "python",
   "nbconvert_exporter": "python",
   "pygments_lexer": "ipython3",
   "version": "3.6.3"
  }
 },
 "nbformat": 4,
 "nbformat_minor": 2
}
